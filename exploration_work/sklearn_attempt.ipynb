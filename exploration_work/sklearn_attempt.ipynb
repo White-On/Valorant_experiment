{
 "cells": [
  {
   "cell_type": "code",
   "execution_count": 1,
   "id": "6c7555bb",
   "metadata": {},
   "outputs": [],
   "source": [
    "import pandas as pd\n",
    "import numpy as np\n",
    "import matplotlib.pyplot as plt"
   ]
  },
  {
   "cell_type": "code",
   "execution_count": 9,
   "id": "16ba7c6e",
   "metadata": {},
   "outputs": [
    {
     "name": "stdout",
     "output_type": "stream",
     "text": [
      "67243\n"
     ]
    },
    {
     "data": {
      "text/plain": [
       "Index(['blue_0_rank', 'blue_1_rank', 'blue_2_rank', 'blue_3_rank',\n",
       "       'blue_4_rank', 'red_0_rank', 'red_1_rank', 'red_2_rank', 'red_3_rank',\n",
       "       'red_4_rank', 'winner'],\n",
       "      dtype='object')"
      ]
     },
     "execution_count": 9,
     "metadata": {},
     "output_type": "execute_result"
    }
   ],
   "source": [
    "df = pd.read_csv('raw_data.csv', index_col=0)\n",
    "print(df.size)\n",
    "df.columns"
   ]
  },
  {
   "cell_type": "code",
   "execution_count": 46,
   "id": "2484b1db",
   "metadata": {},
   "outputs": [
    {
     "name": "stdout",
     "output_type": "stream",
     "text": [
      "617413\n"
     ]
    },
    {
     "data": {
      "text/plain": [
       "Index(['rank_0_0', 'score_0_0', 'kills_0_0', 'deaths_0_0', 'assists_0_0',\n",
       "       'bodyshots_0_0', 'headshots_0_0', 'legshots_0_0', 'damage_made_0_0',\n",
       "       'damage_received_0_0',\n",
       "       ...\n",
       "       'score_1_4', 'kills_1_4', 'deaths_1_4', 'assists_1_4', 'bodyshots_1_4',\n",
       "       'headshots_1_4', 'legshots_1_4', 'damage_made_1_4',\n",
       "       'damage_received_1_4', 'winner'],\n",
       "      dtype='object', length=101)"
      ]
     },
     "execution_count": 46,
     "metadata": {},
     "output_type": "execute_result"
    }
   ],
   "source": [
    "df_enhanced = pd.read_csv('raw_data_enhance.csv', index_col=0)\n",
    "print(df_enhanced.size)\n",
    "df_enhanced.columns"
   ]
  },
  {
   "cell_type": "code",
   "execution_count": null,
   "id": "ce716567",
   "metadata": {},
   "outputs": [
    {
     "name": "stdout",
     "output_type": "stream",
     "text": [
      "Test score: 0.8994\n"
     ]
    }
   ],
   "source": [
    "from sklearn.linear_model import SGDClassifier\n",
    "from sklearn.preprocessing import StandardScaler\n",
    "from sklearn.pipeline import make_pipeline\n",
    "\n",
    "# Normalize the data\n",
    "scaler = StandardScaler()\n",
    "\n",
    "clf = SGDClassifier(loss='log_loss', penalty='l2', max_iter=10_000, tol=1e-3)\n",
    "pipe = make_pipeline(scaler, clf)\n",
    "\n",
    "# 80 percent of the data for training\n",
    "train_size = int(0.8 * df_enhanced.shape[0])\n",
    "X_train = df_enhanced.iloc[:train_size, :-1]\n",
    "y_train = df_enhanced.iloc[:train_size, -1]\n",
    "X_test = df_enhanced.iloc[train_size:, :-1]\n",
    "y_test = df_enhanced.iloc[train_size:, -1]\n",
    "\n",
    "# Fit the model\n",
    "pipe.fit(X_train, y_train)\n",
    "# Evaluate the model\n",
    "score = pipe.score(X_test, y_test)\n",
    "print(f'Test score: {score:.4f}')\n"
   ]
  },
  {
   "cell_type": "code",
   "execution_count": 45,
   "id": "73f20867",
   "metadata": {},
   "outputs": [
    {
     "name": "stdout",
     "output_type": "stream",
     "text": [
      "Confusion Matrix:\n"
     ]
    },
    {
     "data": {
      "image/png": "[encoded data removed]",
      "text/plain": [
       "<Figure size 800x600 with 2 Axes>"
      ]
     },
     "metadata": {},
     "output_type": "display_data"
    }
   ],
   "source": [
    "#Confusion matrix\n",
    "from sklearn.metrics import confusion_matrix\n",
    "y_pred = pipe.predict(X_test)\n",
    "cm = confusion_matrix(y_test, y_pred)\n",
    "print('Confusion Matrix:')\n",
    "\n",
    "plt.figure(figsize=(8, 6))\n",
    "plt.imshow(cm, interpolation='nearest', cmap=plt.cm.Blues)\n",
    "plt.title('Confusion Matrix')\n",
    "plt.colorbar()\n",
    "plt.xticks(np.arange(len(pipe.classes_)), pipe.classes_, rotation=45)\n",
    "plt.yticks(np.arange(len(pipe.classes_)), pipe.classes_)\n",
    "plt.xlabel('Predicted label')\n",
    "plt.ylabel('True label')\n",
    "plt.tight_layout()\n",
    "plt.show()"
   ]
  }
 ],
 "metadata": {
  "kernelspec": {
   "display_name": ".venv",
   "language": "python",
   "name": "python3"
  },
  "language_info": {
   "codemirror_mode": {
    "name": "ipython",
    "version": 3
   },
   "file_extension": ".py",
   "mimetype": "text/x-python",
   "name": "python",
   "nbconvert_exporter": "python",
   "pygments_lexer": "ipython3",
   "version": "3.9.9"
  }
 },
 "nbformat": 4,
 "nbformat_minor": 5
}
